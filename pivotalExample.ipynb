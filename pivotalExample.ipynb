{
 "metadata": {
  "name": "",
  "signature": "sha256:8e67abf774bfa0c5ec5ae5569e07a150fbed4af118778089cffc30f20b82cd51"
 },
 "nbformat": 3,
 "nbformat_minor": 0,
 "worksheets": [
  {
   "cells": [
    {
     "cell_type": "heading",
     "level": 3,
     "metadata": {},
     "source": [
      "Import libraries for sockets, JSON printing and Plot.ly streaming"
     ]
    },
    {
     "cell_type": "code",
     "collapsed": false,
     "input": [
      "import socket, time\n",
      "from pprint import pprint as pp\n",
      "import plotly.plotly as pltly\n",
      "from plotly.graph_objs import Scatter, Layout, Figure, XAxis, YAxis\n",
      "\n",
      "sock = socket.socket(socket.AF_INET, socket.SOCK_DGRAM)\n",
      "\n",
      "IP = \"127.0.0.1\"\n",
      "PORT = 9930\n",
      "\n",
      "sock.bind((IP, PORT))\n",
      "\n",
      "username = 'KyleDunn'\n",
      "api_key = '1px0wl5jkj'\n",
      "stream_token = '4ds3xr720j'\n",
      "\n",
      "pltly.sign_in(username, api_key)"
     ],
     "language": "python",
     "metadata": {},
     "outputs": [],
     "prompt_number": 54
    },
    {
     "cell_type": "heading",
     "level": 4,
     "metadata": {},
     "source": [
      "Format for the CDR data source"
     ]
    },
    {
     "cell_type": "code",
     "collapsed": false,
     "input": [
      "\"\"\"\n",
      "https://dandelion.eu/datagems/SpazioDati/telecom-sms-call-internet-mi/description/\n",
      "\n",
      "Square id: the id of the square that is part of the Milano GRID; TYPE: numeric\n",
      "\n",
      "Time interval: the beginning of the time interval expressed as the number of millisecond elapsed from the Unix Epoch on January 1st, 1970 at UTC. The end of the time interval can be obtained by adding 600000 milliseconds (10 minutes) to this value. TYPE: numeric\n",
      "\n",
      "Country code: the phone country code of a nation. Depending on the measured activity this value assumes different meanings that are explained later. TYPE: numeric\n",
      "\n",
      "SMS-in activity: the activity in terms of received SMS inside the Square id, during the Time interval and sent from the nation identified by the Country code. TYPE: numeric\n",
      "\n",
      "SMS-out activity: the activity in terms of sent SMS inside the Square id, during the Time interval and received by the nation identified by the Country code. TYPE: numeric\n",
      "\n",
      "Call-in activity: the activity in terms of received calls inside the Square id, during the Time interval and issued from the nation identified by the Country code. TYPE: numeric\n",
      "\n",
      "Call-out activity: the activity in terms of issued calls inside the Square id, during the Time interval and received by the nation identified by the Country code. TYPE: numeric\n",
      "\n",
      "Internet traffic activity: the activity in terms of performed internet traffic inside the Square id, during the Time interval and by the nation of the users performing the connection identified by the Country code . TYPE: numeric\n",
      "\n",
      "\"\"\";"
     ],
     "language": "python",
     "metadata": {},
     "outputs": [],
     "prompt_number": 2
    },
    {
     "cell_type": "heading",
     "level": 3,
     "metadata": {},
     "source": [
      "Define the list of data fields, an arbitrary function, and a generic class structure for emitting transformed data"
     ]
    },
    {
     "cell_type": "code",
     "collapsed": false,
     "input": [
      "fields = ['id', 'epoch', 'country', 'smsIn', 'smsOut', 'callIn', 'callOut', 'web']\n",
      "\n",
      "def delta(data):\n",
      "    return data[0]-data[1]\n",
      "\n",
      "\"\"\"\n",
      "Need a class containing these structures, instantiate one per field\n",
      "\"\"\"\n",
      "class Sink():\n",
      "    # What its for\n",
      "    #self.name = \"\"\n",
      "    \n",
      "    # What is interesting\n",
      "    #self.transforms = list()\n",
      "    \n",
      "    # Previous data\n",
      "    #self.last = 0\n",
      "    \n",
      "    def __init__(self, n, methods, stream):\n",
      "        self.name = n\n",
      "        self.transforms = methods\n",
      "        self.last = 0\n",
      "        self.stream = stream\n",
      "        self.stream.open()\n",
      "        \n",
      "    def emit(self, data, epoch):\n",
      "        ## Type is definable\n",
      "        try:\n",
      "            data = float(data)\n",
      "        except ValueError:\n",
      "            return\n",
      "        \n",
      "        for t in self.transforms:\n",
      "            transformed = t([self.last, data])\n",
      "            #print transformed\n",
      "            self.stream.write({'x': epoch, 'y': transformed})\n",
      "        \n",
      "        self.last = data\n",
      "    \n",
      "sinkFields = ['smsIn', 'smsOut', 'callIn', 'callOut', 'web']\n",
      "sinkTransforms = [sum, sum, (lambda c: c[1]), (lambda c: c[0]), max]"
     ],
     "language": "python",
     "metadata": {},
     "outputs": [],
     "prompt_number": 55
    },
    {
     "cell_type": "heading",
     "level": 3,
     "metadata": {},
     "source": [
      "Set up Plot.ly streaming charts using assigned streaming tokens"
     ]
    },
    {
     "cell_type": "code",
     "collapsed": false,
     "input": [
      "streamTokens = ['exhixnky7x', 'bftlydk0s1', 'n1xa485q6c', 'gseljungfr', '96t4z5a3l0'] # Spare token , '8bymnom3y8']\n",
      "\n",
      "traces = [Scatter(x=[], y=[], mode='markers', stream=dict(token=tok, maxpoints=100), name=sinkFields[i]) for i, tok in enumerate(streamTokens)]\n",
      "\n",
      "smsFig = Figure(data=traces[:4], layout=Layout(title='Streaming CDR Data', xaxis=XAxis(showticklabels=False, autorange='reversed'), yaxis=YAxis(title='SMS Utilization (20min), Voice Utilization (10min)'), showlegend=True) )\n",
      "#voiceFig = Figure(data=traces[2:4], layout=Layout(title='Streaming Data for Voice', xaxis=XAxis(type='DateTime'), yaxis=YAxis(title='Instantaneous Minutes'), showlegend=True) )\n",
      "#mobileWebFig = Figure(data=[traces[4]], layout=Layout(title='Streaming Data for Mobile Web', xaxis=XAxis(type='DateTime'), yaxis=YAxis(title='Max Data')) )\n",
      "\n",
      "print pltly.plot(smsFig, filename='CDR-SMS')\n",
      "#print pltly.plot(voiceFig, filename='CDR-Voice')\n",
      "#print pltly.plot(mobileWebFig, filename='CDR-MobileWeb')"
     ],
     "language": "python",
     "metadata": {},
     "outputs": [
      {
       "output_type": "stream",
       "stream": "stdout",
       "text": [
        "https://plot.ly/~KyleDunn/79\n"
       ]
      }
     ],
     "prompt_number": 113
    },
    {
     "cell_type": "heading",
     "level": 3,
     "metadata": {},
     "source": [
      "Register Plot.ly streams, transformation methods, and data series names to Sink class instantiations"
     ]
    },
    {
     "cell_type": "code",
     "collapsed": false,
     "input": [
      "streams = [pltly.Stream(tok) for tok in streamTokens]\n",
      "sinks = [Sink(name, [methods], stream) for name, methods, stream in zip(sinkFields, sinkTransforms, streams)]"
     ],
     "language": "python",
     "metadata": {},
     "outputs": [],
     "prompt_number": 114
    },
    {
     "cell_type": "heading",
     "level": 4,
     "metadata": {},
     "source": [
      "Make a Sink class lookup helper with a dictionary"
     ]
    },
    {
     "cell_type": "code",
     "collapsed": false,
     "input": [
      "sinkLut = dict(zip(sinkFields, sinks))"
     ],
     "language": "python",
     "metadata": {},
     "outputs": [],
     "prompt_number": 115
    },
    {
     "cell_type": "heading",
     "level": 3,
     "metadata": {},
     "source": [
      "Process a stream into discrete records, separated by newline characters, field delimited by tabs"
     ]
    },
    {
     "cell_type": "code",
     "collapsed": false,
     "input": [
      "def linesplit(socket, buf):\n",
      "    global sinks\n",
      "    \n",
      "    done = False\n",
      "    lastTimestamp = 0\n",
      "    while not done:\n",
      "        if \"\\n\" in buf:\n",
      "            (line, buf) = buf.split(\"\\n\", 1)\n",
      "            record = dict( zip(fields, line.split('\\t')))\n",
      "            \n",
      "            \"\"\" Transform sink emits here \"\"\"   \n",
      "            if 'epoch' in record:\n",
      "                try:\n",
      "                    timestamp = int(record['epoch'])\n",
      "                except ValueError:\n",
      "                    continue\n",
      "                \n",
      "                # Drop records with garbage in the timestamp (delta > 2 weeks)\n",
      "                if (abs(lastTimestamp - timestamp)/1000 > 60*60*24*14) and (lastTimestamp != 0):\n",
      "                    continue\n",
      "            else:\n",
      "                continue\n",
      "                \n",
      "            for field, value in record.iteritems():\n",
      "                try:\n",
      "                    if value == '':\n",
      "                        continue\n",
      "                    elif float(value) > 30:\n",
      "                        continue\n",
      "                except ValueError:\n",
      "                    continue\n",
      "                       \n",
      "                try:\n",
      "                    # Turn epoch ms to epoch seconds\n",
      "                    sinkLut[field].emit(value, timestamp/1000)\n",
      "                except KeyError:\n",
      "                    continue\n",
      "                except TypeError:\n",
      "                    print field, value\n",
      "                    continue\n",
      "                    \n",
      "            #pp(record) \n",
      "            \"\"\" End transform sinks \"\"\"\n",
      "            lastTimestamp = timestamp\n",
      "            \n",
      "        else:\n",
      "            more = socket.recv(4096)\n",
      "            if not more:\n",
      "                done = True\n",
      "            else:\n",
      "                buf = buf+more\n",
      "    if buf:\n",
      "        linesplit(socket, buf)\n",
      "\n",
      "while True:\n",
      "    # Recurse on the socket, with an initial buffer passed in\n",
      "    # to make successive calls easier\n",
      "    linesplit(sock, buf = sock.recv(4096))"
     ],
     "language": "python",
     "metadata": {},
     "outputs": [
      {
       "ename": "KeyboardInterrupt",
       "evalue": "",
       "output_type": "pyerr",
       "traceback": [
        "\u001b[0;31m---------------------------------------------------------------------------\u001b[0m\n\u001b[0;31mKeyboardInterrupt\u001b[0m                         Traceback (most recent call last)",
        "\u001b[0;32m<ipython-input-116-60311f0ac4b4>\u001b[0m in \u001b[0;36m<module>\u001b[0;34m()\u001b[0m\n\u001b[1;32m     56\u001b[0m     \u001b[0;31m# Recurse on the socket, with an initial buffer passed in\u001b[0m\u001b[0;34m\u001b[0m\u001b[0;34m\u001b[0m\u001b[0m\n\u001b[1;32m     57\u001b[0m     \u001b[0;31m# to make successive calls easier\u001b[0m\u001b[0;34m\u001b[0m\u001b[0;34m\u001b[0m\u001b[0m\n\u001b[0;32m---> 58\u001b[0;31m     \u001b[0mlinesplit\u001b[0m\u001b[0;34m(\u001b[0m\u001b[0msock\u001b[0m\u001b[0;34m,\u001b[0m \u001b[0mbuf\u001b[0m \u001b[0;34m=\u001b[0m \u001b[0msock\u001b[0m\u001b[0;34m.\u001b[0m\u001b[0mrecv\u001b[0m\u001b[0;34m(\u001b[0m\u001b[0;36m4096\u001b[0m\u001b[0;34m)\u001b[0m\u001b[0;34m)\u001b[0m\u001b[0;34m\u001b[0m\u001b[0m\n\u001b[0m",
        "\u001b[0;32m<ipython-input-116-60311f0ac4b4>\u001b[0m in \u001b[0;36mlinesplit\u001b[0;34m(socket, buf)\u001b[0m\n\u001b[1;32m     45\u001b[0m \u001b[0;34m\u001b[0m\u001b[0m\n\u001b[1;32m     46\u001b[0m         \u001b[0;32melse\u001b[0m\u001b[0;34m:\u001b[0m\u001b[0;34m\u001b[0m\u001b[0m\n\u001b[0;32m---> 47\u001b[0;31m             \u001b[0mmore\u001b[0m \u001b[0;34m=\u001b[0m \u001b[0msocket\u001b[0m\u001b[0;34m.\u001b[0m\u001b[0mrecv\u001b[0m\u001b[0;34m(\u001b[0m\u001b[0;36m4096\u001b[0m\u001b[0;34m)\u001b[0m\u001b[0;34m\u001b[0m\u001b[0m\n\u001b[0m\u001b[1;32m     48\u001b[0m             \u001b[0;32mif\u001b[0m \u001b[0;32mnot\u001b[0m \u001b[0mmore\u001b[0m\u001b[0;34m:\u001b[0m\u001b[0;34m\u001b[0m\u001b[0m\n\u001b[1;32m     49\u001b[0m                 \u001b[0mdone\u001b[0m \u001b[0;34m=\u001b[0m \u001b[0mTrue\u001b[0m\u001b[0;34m\u001b[0m\u001b[0m\n",
        "\u001b[0;31mKeyboardInterrupt\u001b[0m: "
       ]
      }
     ],
     "prompt_number": 116
    },
    {
     "cell_type": "heading",
     "level": 4,
     "metadata": {},
     "source": [
      "Cleanup the socket ans stream classes"
     ]
    },
    {
     "cell_type": "code",
     "collapsed": false,
     "input": [
      "sock.close()\n",
      "\n",
      "for s in streams:\n",
      "    s.close()"
     ],
     "language": "python",
     "metadata": {},
     "outputs": [],
     "prompt_number": 53
    },
    {
     "cell_type": "heading",
     "level": 2,
     "metadata": {},
     "source": [
      "Plot.ly demo dashboards"
     ]
    },
    {
     "cell_type": "code",
     "collapsed": false,
     "input": [
      "from IPython.display import HTML"
     ],
     "language": "python",
     "metadata": {},
     "outputs": [],
     "prompt_number": 105
    },
    {
     "cell_type": "code",
     "collapsed": false,
     "input": [
      "HTML('<iframe width=\"800\" height=\"600\" frameborder=\"0\" seamless=\"seamless\" scrolling=\"no\" src=\"https://plot.ly/~KyleDunn/79.embed?width=800&height=600\"></iframe>'\n",
      ")"
     ],
     "language": "python",
     "metadata": {},
     "outputs": [
      {
       "html": [
        "<iframe width=\"800\" height=\"600\" frameborder=\"0\" seamless=\"seamless\" scrolling=\"no\" src=\"https://plot.ly/~KyleDunn/79.embed?width=800&height=600\"></iframe>"
       ],
       "metadata": {},
       "output_type": "pyout",
       "prompt_number": 106,
       "text": [
        "<IPython.core.display.HTML at 0x10d1b8990>"
       ]
      }
     ],
     "prompt_number": 106
    },
    {
     "cell_type": "code",
     "collapsed": false,
     "input": [
      "HTML('<iframe width=\"800\" height=\"600\" frameborder=\"0\" seamless=\"seamless\" scrolling=\"no\" src=\"https://plot.ly/~KyleDunn/80.embed?width=800&height=600\"></iframe>')"
     ],
     "language": "python",
     "metadata": {},
     "outputs": [
      {
       "html": [
        "<iframe width=\"800\" height=\"600\" frameborder=\"0\" seamless=\"seamless\" scrolling=\"no\" src=\"https://plot.ly/~KyleDunn/80.embed?width=800&height=600\"></iframe>"
       ],
       "metadata": {},
       "output_type": "pyout",
       "prompt_number": 6,
       "text": [
        "<IPython.core.display.HTML at 0x1087beb10>"
       ]
      }
     ],
     "prompt_number": 6
    },
    {
     "cell_type": "code",
     "collapsed": false,
     "input": [
      "HTML('<iframe width=\"800\" height=\"600\" frameborder=\"0\" seamless=\"seamless\" scrolling=\"no\" src=\"https://plot.ly/~KyleDunn/84.embed?width=800&height=600\"></iframe>')"
     ],
     "language": "python",
     "metadata": {},
     "outputs": [
      {
       "html": [
        "<iframe width=\"800\" height=\"600\" frameborder=\"0\" seamless=\"seamless\" scrolling=\"no\" src=\"https://plot.ly/~KyleDunn/84.embed?width=800&height=600\"></iframe>"
       ],
       "metadata": {},
       "output_type": "pyout",
       "prompt_number": 8,
       "text": [
        "<IPython.core.display.HTML at 0x1087beb50>"
       ]
      }
     ],
     "prompt_number": 8
    },
    {
     "cell_type": "code",
     "collapsed": false,
     "input": [
      "%matplotlib inline\n",
      "\n",
      "import matplotlib.pyplot as plt\n",
      "import matplotlib as mpl\n",
      "import numpy as np\n",
      "\n",
      "preziGray = (37/255.,37/255.,37/255.)\n",
      "\n",
      "fig, ax = plt.subplots(figsize=(16, 9), facecolor=preziGray)\n",
      "ax.set_axis_bgcolor(preziGray)\n",
      "\n",
      "def grow(a, b, x):\n",
      "    return a*(1+b)**x\n",
      "\n",
      "project = 13\n",
      "\n",
      "ax.plot(range(project), [grow(4.4, 0.4, x) for x in range(project)], c='cyan', label='Total Data')\n",
      "ax.plot(range(project), [grow(4.4, 0.4, x)*0.37 for x in range(project)], c='orange', label='Insightful Data')\n",
      "\n",
      "ax.set_xlabel('Year', color='white')\n",
      "ax.set_xticklabels(range(2013, 2013+project, 2), color='white')\n",
      "ax.set_xlim(0, project)\n",
      "\n",
      "#plt.yscale('log')\n",
      "ax.set_ylabel('Digital universe [million GB]', color='white')\n",
      "ax.set_yticklabels(range(0, 1001, 100), color='white')\n",
      "#ax.set_yticks(color='white')\n",
      "ax.set_title('Data growth according to EMC: \\n emc.com/leadership/digital-universe/2014iview/executive-summary.htm', color='white')\n",
      "\n",
      "# Set legend background and line color\n",
      "leg = ax.legend()\n",
      "leg.get_frame().set_facecolor(preziGray)\n",
      "leg.get_frame().set_edgecolor(preziGray)\n",
      "\n",
      "# Set series text label colors\n",
      "colors = ['cyan', 'orange']\n",
      "for color,text in zip(colors,leg.get_texts()):\n",
      "    text.set_color(color)\n",
      "\n",
      "# Set Axes line colors\n",
      "axesColors = [preziGray, preziGray, 'white', 'white']\n",
      "used = 0\n",
      "for child in ax.get_children():\n",
      "    if isinstance(child, mpl.spines.Spine):\n",
      "        child.set_color(axesColors[used])\n",
      "        used = used + 1\n",
      "\n"
     ],
     "language": "python",
     "metadata": {},
     "outputs": [
      {
       "metadata": {},
       "output_type": "display_data",
       "png": "[encoded data removed]",
       "text": [
        "<matplotlib.figure.Figure at 0x10ef09c10>"
       ]
      }
     ],
     "prompt_number": 112
    },
    {
     "cell_type": "code",
     "collapsed": false,
     "input": [],
     "language": "python",
     "metadata": {},
     "outputs": []
    }
   ],
   "metadata": {}
  }
 ]
}